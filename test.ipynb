{
 "cells": [
  {
   "cell_type": "code",
   "execution_count": 2,
   "id": "03eb4882",
   "metadata": {},
   "outputs": [],
   "source": [
    "from langchain_tavily import TavilySearch\n"
   ]
  },
  {
   "cell_type": "code",
   "execution_count": 6,
   "id": "f3a8ff8a",
   "metadata": {},
   "outputs": [],
   "source": [
    "tavily_tool = TavilySearch(max_results=1)\n",
    "response = tavily_tool.invoke({\"query\": \"Virat Kohli and Rohit Sharma recent form and statistics\"})   "
   ]
  },
  {
   "cell_type": "code",
   "execution_count": 7,
   "id": "413603d5",
   "metadata": {},
   "outputs": [
    {
     "name": "stdout",
     "output_type": "stream",
     "text": [
      "{'query': 'Virat Kohli and Rohit Sharma recent form and statistics', 'follow_up_questions': None, 'answer': None, 'images': [], 'results': [{'url': 'https://www.gamezy.com/fantasy-cricket/rohit-sharma-vs-virat-kohli/', 'title': 'Rohit Sharma vs Virat Kohli - Stats, Comparison, Records, Captaincy', 'content': 'Rohit Sharma vs Virat Kohli Stats Comparison ; Rohit vs Kohli in Test · 49, 108 ; Rohit Sharma vs Kohli in ODI · 243, 274 ; Rohit vs Virat Kohli in T20 · 148, 115.', 'score': 0.7876867, 'raw_content': None}], 'response_time': 0.94, 'request_id': '08fb9bc5-5adc-4b7d-8c12-ac83556829b3'}\n"
     ]
    }
   ],
   "source": [
    "print(response)"
   ]
  },
  {
   "cell_type": "code",
   "execution_count": null,
   "id": "834f1e0c",
   "metadata": {},
   "outputs": [],
   "source": []
  }
 ],
 "metadata": {
  "kernelspec": {
   "display_name": ".venv",
   "language": "python",
   "name": "python3"
  },
  "language_info": {
   "codemirror_mode": {
    "name": "ipython",
    "version": 3
   },
   "file_extension": ".py",
   "mimetype": "text/x-python",
   "name": "python",
   "nbconvert_exporter": "python",
   "pygments_lexer": "ipython3",
   "version": "3.11.4"
  }
 },
 "nbformat": 4,
 "nbformat_minor": 5
}
